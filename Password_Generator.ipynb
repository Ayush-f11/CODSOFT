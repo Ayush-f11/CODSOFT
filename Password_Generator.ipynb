{
  "nbformat": 4,
  "nbformat_minor": 0,
  "metadata": {
    "colab": {
      "provenance": []
    },
    "kernelspec": {
      "name": "python3",
      "display_name": "Python 3"
    },
    "language_info": {
      "name": "python"
    }
  },
  "cells": [
    {
      "cell_type": "code",
      "execution_count": 6,
      "metadata": {
        "colab": {
          "base_uri": "https://localhost:8080/"
        },
        "id": "Ae7qsb5WcAIx",
        "outputId": "0654554b-484c-4729-8887-0d86b4c0aaed"
      },
      "outputs": [
        {
          "output_type": "stream",
          "name": "stdout",
          "text": [
            "Enter the desired length of the password: 5\n",
            "Generated password: <#|:|\n"
          ]
        }
      ],
      "source": [
        "import random\n",
        "import string\n",
        "\n",
        "def generatePassword(length):\n",
        "    # Define the character sets to use in generating the password\n",
        "    characters = string.ascii_letters + string.digits + string.punctuation\n",
        "\n",
        "    # Generate the password\n",
        "    password = ''.join(random.choice(characters) for _ in range(length))\n",
        "\n",
        "    return password\n",
        "\n",
        "def main():\n",
        "    # Prompt the user to specify the desired length of the password\n",
        "    while True:\n",
        "        try:\n",
        "            length = int(input(\"Enter the desired length of the password: \"))\n",
        "            if length <= 0:\n",
        "                print(\"Please enter a positive number for the length.\")\n",
        "            else:\n",
        "                break\n",
        "        except ValueError:\n",
        "            print(\"Invalid input. Please enter a valid number.\")\n",
        "\n",
        "    # Generate the password\n",
        "    password = generatePassword(length)\n",
        "\n",
        "    # Display the password\n",
        "    print(\"Generated password:\", password)\n",
        "\n",
        "if __name__ == \"__main__\":\n",
        "    main()"
      ]
    }
  ]
}