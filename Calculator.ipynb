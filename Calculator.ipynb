{
  "nbformat": 4,
  "nbformat_minor": 0,
  "metadata": {
    "colab": {
      "provenance": []
    },
    "kernelspec": {
      "name": "python3",
      "display_name": "Python 3"
    },
    "language_info": {
      "name": "python"
    }
  },
  "cells": [
    {
      "cell_type": "code",
      "execution_count": 13,
      "metadata": {
        "colab": {
          "base_uri": "https://localhost:8080/"
        },
        "id": "yJLh0nbpK-58",
        "outputId": "8842f80a-f1ba-465e-bcff-24b323a11855"
      },
      "outputs": [
        {
          "output_type": "stream",
          "name": "stdout",
          "text": [
            "Enter first number: 65\n",
            "Enter second number: 5\n",
            "Select operation:\n",
            "1. Addition\n",
            "2. Subtraction\n",
            "3. Multiplication\n",
            "4. Division\n",
            "Enter choice (1/2/3/4): 1\n",
            "65.0 + 5.0 = 70.0\n"
          ]
        }
      ],
      "source": [
        "# Function to perform addition\n",
        "def add(x, y):\n",
        "    return x + y\n",
        "\n",
        "# Function to perform subtraction\n",
        "def subtract(x, y):\n",
        "    return x - y\n",
        "\n",
        "# Function to perform multiplication\n",
        "def multiply(x, y):\n",
        "    return x * y\n",
        "\n",
        "# Function to perform division\n",
        "def divide(x, y):\n",
        "    if y == 0:\n",
        "        return \"Error! Division by zero.\"\n",
        "    else:\n",
        "        return x / y\n",
        "\n",
        "# Function to display the menu and get user choice\n",
        "def get_user_choice():\n",
        "    print(\"Select operation:\")\n",
        "    print(\"1. Addition\")\n",
        "    print(\"2. Subtraction\")\n",
        "    print(\"3. Multiplication\")\n",
        "    print(\"4. Division\")\n",
        "\n",
        "    choice = input(\"Enter choice (1/2/3/4): \")\n",
        "    return choice\n",
        "\n",
        "# Main function to run the calculator\n",
        "def calculator():\n",
        "    # Get user input\n",
        "    num1 = float(input(\"Enter first number: \"))\n",
        "    num2 = float(input(\"Enter second number: \"))\n",
        "\n",
        "    # Display menu and get choice\n",
        "    choice = get_user_choice()\n",
        "\n",
        "    # Perform the chosen operation\n",
        "    if choice == '1':\n",
        "        print(f\"{num1} + {num2} = {add(num1, num2)}\")\n",
        "    elif choice == '2':\n",
        "        print(f\"{num1} - {num2} = {subtract(num1, num2)}\")\n",
        "    elif choice == '3':\n",
        "        print(f\"{num1} * {num2} = {multiply(num1, num2)}\")\n",
        "    elif choice == '4':\n",
        "        print(f\"{num1} / {num2} = {divide(num1, num2)}\")\n",
        "    else:\n",
        "        print(\"Invalid input. Please enter a valid choice.\")\n",
        "\n",
        "# Run the calculator\n",
        "calculator()"
      ]
    }
  ]
}